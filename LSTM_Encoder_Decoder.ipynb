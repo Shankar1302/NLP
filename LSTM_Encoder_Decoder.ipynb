{
 "cells": [
  {
   "cell_type": "code",
   "execution_count": null,
   "id": "ca726e89",
   "metadata": {},
   "outputs": [],
   "source": [
    "import numpy as np\n",
    "import pandas as pd \n",
    "import matplotlib.pyplot as plt\n",
    "import warnings\n",
    "from sklearn.metrics import mean_absolute_error\n",
    "from keras.models import Sequential\n",
    "from keras.layers import Dense, LSTM, Dropout,Flatten\n",
    "warnings.filterwarnings(\"ignore\")"
   ]
  },
  {
   "cell_type": "code",
   "execution_count": null,
   "id": "5ebf929d",
   "metadata": {},
   "outputs": [],
   "source": [
    "bit_data=pd.read_csv(\"../input/bitstampUSD.csv\")\n",
    "bit_data[\"date\"]=pd.to_datetime(bit_data[\"Timestamp\"],unit=\"s\").dt.date\n",
    "group=bit_data.groupby(\"date\")\n",
    "data=group[\"Close\"].mean()\n",
    "data.shape"
   ]
  },
  {
   "cell_type": "code",
   "execution_count": null,
   "id": "47ba8b77",
   "metadata": {},
   "outputs": [],
   "source": [
    "close_train=data.iloc[:len(data)-60]\n",
    "close_test=data.iloc[len(close_train):]"
   ]
  },
  {
   "cell_type": "code",
   "execution_count": null,
   "id": "a8856ed8",
   "metadata": {},
   "outputs": [],
   "source": [
    "close_train=np.array(close_train)\n",
    "close_train=close_train.reshape(close_train.shape[0],1)\n",
    "from sklearn.preprocessing import MinMaxScaler\n",
    "scaler=MinMaxScaler(feature_range=(0,1))\n",
    "close_scaled=scaler.fit_transform(close_train)"
   ]
  },
  {
   "cell_type": "code",
   "execution_count": null,
   "id": "df1f7bd1",
   "metadata": {},
   "outputs": [],
   "source": [
    "timestep=60\n",
    "x_train=[]\n",
    "y_train=[]\n",
    "\n",
    "for i in range(timestep,close_scaled.shape[0]):\n",
    "    x_train.append(close_scaled[i-timestep:i,0])\n",
    "    y_train.append(close_scaled[i,0])\n",
    "\n",
    "x_train,y_train=np.array(x_train),np.array(y_train)\n",
    "x_train=x_train.reshape(x_train.shape[0],x_train.shape[1],1) #reshaped for RNN\n",
    "print(\"x-train-shape= \",x_train.shape)\n",
    "print(\"y-train-shape= \",y_train.shape)"
   ]
  },
  {
   "cell_type": "code",
   "execution_count": null,
   "id": "8e9378f2",
   "metadata": {},
   "outputs": [],
   "source": [
    "model = Sequential()\n",
    "model.add(Dense(56, input_shape=(x_train.shape[1],1), activation='relu'))\n",
    "model.add(Dense(32, activation='relu'))\n",
    "model.add(Flatten())\n",
    "model.add(Dense(1)\n",
    "\n",
    "model.compile(optimizer=\"adam\",loss=\"mean_squared_error\")\n",
    "model.fit(x_train,y_train,epochs=50,batch_size=64)"
   ]
  },
  {
   "cell_type": "code",
   "execution_count": null,
   "id": "9a9760a3",
   "metadata": {},
   "outputs": [],
   "source": [
    "inputs=data[len(data)-len(close_test)-timestep:]\n",
    "inputs=inputs.values.reshape(-1,1)\n",
    "inputs=scaler.transform(inputs)"
   ]
  },
  {
   "cell_type": "code",
   "execution_count": null,
   "id": "f6dcd1ba",
   "metadata": {},
   "outputs": [],
   "source": []
  },
  {
   "cell_type": "code",
   "execution_count": null,
   "id": "40e07e8b",
   "metadata": {},
   "outputs": [],
   "source": []
  },
  {
   "cell_type": "code",
   "execution_count": null,
   "id": "e470019d",
   "metadata": {},
   "outputs": [],
   "source": []
  },
  {
   "cell_type": "code",
   "execution_count": null,
   "id": "a6304fef",
   "metadata": {},
   "outputs": [],
   "source": []
  },
  {
   "cell_type": "code",
   "execution_count": null,
   "id": "5a47309c",
   "metadata": {},
   "outputs": [],
   "source": []
  },
  {
   "cell_type": "code",
   "execution_count": null,
   "id": "25c9db07",
   "metadata": {},
   "outputs": [],
   "source": []
  },
  {
   "cell_type": "code",
   "execution_count": null,
   "id": "8ab800bc",
   "metadata": {},
   "outputs": [],
   "source": [
    "# Implementation of Simple RNN\n",
    "reg=Sequential()\n",
    "reg.add(SimpleRNN(128,activation=\"relu\",return_sequences=True,input_shape=(x_train.shape[1],1)))\n",
    "reg.add(Dropout(0.25))\n",
    "reg.add(SimpleRNN(256,activation=\"relu\",return_sequences=True))\n",
    "reg.add(Dropout(0.25))\n",
    "reg.add(SimpleRNN(512,activation=\"relu\",return_sequences=True))\n",
    "reg.add(Dropout(0.35))\n",
    "reg.add(Flatten())\n",
    "reg.add(Dense(1))\n",
    "\n",
    "reg.compile(optimizer=\"adam\",loss=\"mean_squared_error\")\n",
    "reg.fit(x_train,y_train,epochs=50,batch_size=64)\n",
    "predicted_data=reg.predict(x_test)\n",
    "predicted_data=scaler.inverse_transform(predicted_data)\n",
    "plt.figure(figsize=(8,4), dpi=80, facecolor='w', edgecolor='k')\n",
    "plt.plot(data_test,color=\"r\",label=\"true-result\")\n",
    "plt.plot(predicted_data,color=\"g\",label=\"predicted-result\")\n",
    "plt.legend()\n",
    "plt.xlabel(\"Time(60 days)\")\n",
    "plt.ylabel(\"Close Values\")\n",
    "plt.grid(True)\n",
    "plt.show()"
   ]
  },
  {
   "cell_type": "code",
   "execution_count": null,
   "id": "cb0b6bac",
   "metadata": {},
   "outputs": [],
   "source": [
    "#introduction-to-lstm-units-in-rnn\n",
    "from sklearn.metrics import mean_absolute_error\n",
    "from keras.models import Sequential\n",
    "from keras.layers import Dense, LSTM, Dropout\n",
    "\n",
    "modell = Sequential()\n",
    "modell.add(LSTM(50, return_sequences=True, input_shape=(x_train.shape[1],1)))\n",
    "modell.add(Dropout(0.2))\n",
    "modell.add(LSTM(100, return_sequences=False))\n",
    "modell.add(Dropout(0.2))\n",
    "modell.add(Dense(1))\n",
    "\n",
    "modell.compile(loss=\"mean_squared_error\",optimizer=\"rmsprop\")\n",
    "\n",
    "modell.fit(x_train,y_train,epochs= 50,batch_size=64)"
   ]
  },
  {
   "cell_type": "code",
   "execution_count": null,
   "id": "fb59deb1",
   "metadata": {},
   "outputs": [],
   "source": []
  },
  {
   "cell_type": "code",
   "execution_count": null,
   "id": "8d49487e",
   "metadata": {},
   "outputs": [],
   "source": [
    "inputs=data[len(data)-len(close_test)-timestep:]\n",
    "inputs=inputs.values.reshape(-1,1)\n",
    "inputs=scaler.transform(inputs)"
   ]
  },
  {
   "cell_type": "code",
   "execution_count": null,
   "id": "ceb04185",
   "metadata": {},
   "outputs": [],
   "source": [
    "x_test=[]\n",
    "for i in range(timestep,inputs.shape[0]):\n",
    "    x_test.append(inputs[i-timestep:i,0])\n",
    "x_test=np.array(x_test)\n",
    "x_test=x_test.reshape(x_test.shape[0],x_test.shape[1],1)"
   ]
  },
  {
   "cell_type": "code",
   "execution_count": null,
   "id": "105cd01a",
   "metadata": {},
   "outputs": [],
   "source": [
    "predicted_data=modell.predict(x_test)\n",
    "predicted_data=scaler.inverse_transform(predicted_data)"
   ]
  },
  {
   "cell_type": "code",
   "execution_count": null,
   "id": "b910a3ac",
   "metadata": {},
   "outputs": [],
   "source": [
    "plt.figure(figsize=(8,4), dpi=80, facecolor='w', edgecolor='k')\n",
    "plt.plot(data_test,color=\"r\",label=\"true-result\")\n",
    "plt.plot(predicted_data,color=\"g\",label=\"predicted-result\")\n",
    "plt.legend()\n",
    "plt.title(\"LSTM\")\n",
    "plt.xlabel(\"Time(60 days)\")\n",
    "plt.ylabel(\"Close Values\")\n",
    "plt.grid(True)\n",
    "plt.show()"
   ]
  },
  {
   "cell_type": "code",
   "execution_count": null,
   "id": "a4164b69",
   "metadata": {},
   "outputs": [],
   "source": []
  },
  {
   "cell_type": "code",
   "execution_count": null,
   "id": "b402e782",
   "metadata": {},
   "outputs": [],
   "source": []
  },
  {
   "cell_type": "code",
   "execution_count": null,
   "id": "0afc6801",
   "metadata": {},
   "outputs": [],
   "source": []
  },
  {
   "cell_type": "code",
   "execution_count": null,
   "id": "c197da8e",
   "metadata": {},
   "outputs": [],
   "source": [
    "#Encoders and Decoders for Neural Machine Translation\n",
    "import tensorflow as tf\n",
    "from tensorflow import keras\n",
    "from keras.layers import *\n",
    "from keras.models import *\n",
    "from keras.utils import *\n",
    "from keras.initializers import *\n",
    "from keras.optimizers import * \n",
    "\n",
    "\n",
    "batch_size = 64  \n",
    "epochs = 100  \n",
    "latent_dim = 256  \n",
    "num_samples = 10000  \n",
    "# set the data_path accordingly\n",
    "data_path = \"/content/drive/My Drive/spa.txt\" \n",
    "\n",
    "#Pre-processing\n",
    "input_texts = []\n",
    "target_texts = []\n",
    "input_characters = set()\n",
    "target_characters = set()\n",
    "with open(data_path, \"r\", encoding=\"utf-8\") as f:\n",
    "    lines = f.read().split(\"\\n\")\n",
    "    \n",
    "    \n",
    "    \n",
    "for line in lines[: min(num_samples, len(lines) - 1)]:\n",
    "    input_text, target_text, _ = line.split(\"\\t\")\n",
    "    ############### A ###############\n",
    "    target_text = \"\\t\" + target_text + \"\\n\"\n",
    "    input_texts.append(input_text)\n",
    "    target_texts.append(target_text)\n",
    "    ############### B ###############\n",
    "    for char in input_text:\n",
    "        if char not in input_characters:\n",
    "            input_characters.add(char)\n",
    "    for char in target_text:\n",
    "        if char not in target_characters:\n",
    "            target_characters.add(char)\n",
    "print(input_characters)\n",
    "print(target_characters)\n",
    "\n",
    "\n",
    "input_characters = sorted(list(input_characters))\n",
    "target_characters = sorted(list(target_characters))\n",
    "num_encoder_tokens = len(input_characters)\n",
    "num_decoder_tokens = len(target_characters)\n",
    "max_encoder_seq_length = max([len(txt) for txt in input_texts])\n",
    "max_decoder_seq_length = max([len(txt) for txt in target_texts])\n",
    "\n",
    "print(\"No.of samples:\", len(input_texts))\n",
    "print(\"No.of unique input tokens:\", num_encoder_tokens)\n",
    "print(\"No.of unique output tokens:\", num_decoder_tokens)\n",
    "print(\"Maximum seq length for inputs:\", max_encoder_seq_length)\n",
    "print(\"Maximum seq length for outputs:\", max_decoder_seq_length)\n",
    "\n",
    "\n",
    "input_token_index = dict([(char, i) for i, char in enumerate(input_characters)])\n",
    "target_token_index = dict([(char, i) for i, char in enumerate(target_characters)])\n",
    "\n",
    "print(input_token_index)\n",
    "print(target_token_index)\n",
    "\n",
    "\n",
    "#Feature Engineering\n",
    "encoder_input_data = np.zeros(\n",
    "  (len(input_texts), max_encoder_seq_length, num_encoder_tokens), dtype=\"float32\"\n",
    ")\n",
    "\n",
    "decoder_input_data = np.zeros(\n",
    "  (len(input_texts), max_decoder_seq_length, num_decoder_tokens), dtype=\"float32\"\n",
    ")\n",
    "\n",
    "decoder_target_data = np.zeros(\n",
    "  (len(input_texts), max_decoder_seq_length, num_decoder_tokens), dtype=\"float32\"\n",
    ")\n",
    "\n",
    "for i, (input_text, target_text) in enumerate(zip(input_texts, target_texts)):\n",
    "    for t, char in enumerate(input_text):\n",
    "        encoder_input_data[i, t, input_token_index[char]] = 1.0\n",
    "    encoder_input_data[i, t + 1 :, input_token_index[\" \"]] = 1.0\n",
    "    for t, char in enumerate(target_text):\n",
    "        decoder_input_data[i, t, target_token_index[char]] = 1.0\n",
    "        if t > 0:\n",
    "            decoder_target_data[i, t - 1, target_token_index[char]] = 1.0\n",
    "    decoder_input_data[i, t + 1 :, target_token_index[\" \"]] = 1.0\n",
    "    decoder_target_data[i, t:, target_token_index[\" \"]] = 1.0"
   ]
  }
 ],
 "metadata": {
  "kernelspec": {
   "display_name": "Python 3 (ipykernel)",
   "language": "python",
   "name": "python3"
  },
  "language_info": {
   "codemirror_mode": {
    "name": "ipython",
    "version": 3
   },
   "file_extension": ".py",
   "mimetype": "text/x-python",
   "name": "python",
   "nbconvert_exporter": "python",
   "pygments_lexer": "ipython3",
   "version": "3.9.13"
  }
 },
 "nbformat": 4,
 "nbformat_minor": 5
}
